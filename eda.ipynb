{
 "cells": [
  {
   "cell_type": "code",
   "execution_count": 1,
   "id": "initial_id",
   "metadata": {
    "ExecuteTime": {
     "end_time": "2024-11-05T22:52:24.875693Z",
     "start_time": "2024-11-05T22:52:24.781990Z"
    }
   },
   "outputs": [],
   "source": [
    "%load_ext autoreload\n",
    "%autoreload 2"
   ]
  },
  {
   "cell_type": "code",
   "execution_count": 2,
   "id": "3d99eedfaa4f41d7",
   "metadata": {
    "ExecuteTime": {
     "end_time": "2024-09-15T14:11:38.869342Z",
     "start_time": "2024-09-15T14:11:38.776488Z"
    }
   },
   "outputs": [
    {
     "name": "stdout",
     "output_type": "stream",
     "text": [
      "log_level: WARNING\n",
      "fast_dev_run: false\n",
      "overfit_batches: 0.0\n",
      "dirs:\n",
      "  data: /home/stud/ath/ath_ws/others/pixel_art_generator/data\n",
      "  output: /home/stud/ath/ath_ws/keypoint_matcher/output\n",
      "  output_test_images: ${dirs.output}/test_images\n",
      "  output_val_images: ${dirs.output}/val_images\n",
      "image_size: 16\n",
      "train:\n",
      "  train_batch_size: 256\n",
      "  val_batch_size: 256\n",
      "  seed: 42\n",
      "  save_image_epochs: 5\n",
      "  patience: 4\n",
      "  max_epochs: 20\n",
      "  check_val_every_n_epoch: 2\n",
      "  num_sanity_val_steps: 1\n",
      "  log_every_n_steps: 25\n",
      "  accumulate_grad_batches: 2\n",
      "  learning_rate: 0.0001\n",
      "  lr_warmup_steps: 500\n",
      "test:\n",
      "  batch_size: 16\n",
      "\n"
     ]
    }
   ],
   "source": [
    "from config import config\n",
    "from utils import visualize_X_samples_grid\n",
    "\n",
    "import os\n",
    "import numpy as np\n",
    "import pandas as pd\n",
    "import torch\n",
    "import torch.nn as nn\n",
    "import torch.nn.functional as F\n",
    "import torchvision\n",
    "import torchvision.transforms as T\n",
    "import torchvision.transforms.functional as TF\n",
    "import lightning as L\n",
    "import lightning.pytorch as pl\n",
    "import matplotlib.pyplot as plt\n",
    "torch.set_float32_matmul_precision('medium')"
   ]
  },
  {
   "cell_type": "markdown",
   "id": "d1cc00690c7ac7a3",
   "metadata": {},
   "source": [
    "# Check Data Module"
   ]
  },
  {
   "cell_type": "code",
   "execution_count": 3,
   "id": "f4b838f59249e4a3",
   "metadata": {
    "ExecuteTime": {
     "end_time": "2024-09-15T14:11:38.955526Z",
     "start_time": "2024-09-15T14:11:38.870346Z"
    }
   },
   "outputs": [],
   "source": [
    "from dataset import SpriteDataModule\n",
    "dm = SpriteDataModule()\n",
    "dm.setup(stage='fit')"
   ]
  },
  {
   "cell_type": "code",
   "execution_count": 4,
   "id": "9b15a3995690a69e",
   "metadata": {
    "ExecuteTime": {
     "end_time": "2024-09-15T14:11:52.504804Z",
     "start_time": "2024-09-15T14:11:39.084275Z"
    },
    "scrolled": true
   },
   "outputs": [],
   "source": [
    "dl = dm.train_dataloader()\n",
    "batch = next(iter(dl))"
   ]
  },
  {
   "cell_type": "code",
   "execution_count": 5,
   "id": "e5639e088fb42b9c",
   "metadata": {
    "ExecuteTime": {
     "end_time": "2024-09-15T14:11:52.708818Z",
     "start_time": "2024-09-15T14:11:52.505812Z"
    }
   },
   "outputs": [
    {
     "data": {
      "text/plain": [
       "(torch.Size([256, 3, 16, 16]), torch.Size([256, 5]))"
      ]
     },
     "execution_count": 5,
     "metadata": {},
     "output_type": "execute_result"
    }
   ],
   "source": [
    "images, labels = batch\n",
    "images.shape, labels.shape"
   ]
  },
  {
   "cell_type": "code",
   "execution_count": 6,
   "id": "7ebaf361-fb16-407f-b603-e61164382974",
   "metadata": {},
   "outputs": [
    {
     "data": {
      "image/png": "[encoded data removed]",
      "text/plain": [
       "<Figure size 800x600 with 12 Axes>"
      ]
     },
     "metadata": {},
     "output_type": "display_data"
    }
   ],
   "source": [
    "visualize_X_samples_grid(images, labels)"
   ]
  },
  {
   "cell_type": "code",
   "execution_count": 9,
   "id": "e8223847-daf8-4be2-9c55-b9403dd58aa1",
   "metadata": {},
   "outputs": [
    {
     "data": {
      "text/plain": [
       "(16, 3, 16, 16)"
      ]
     },
     "execution_count": 9,
     "metadata": {},
     "output_type": "execute_result"
    }
   ],
   "source": [
    "ims = np.load('./output/test_images/2024-11-06 13:42:10.npy')\n",
    "ims.shape"
   ]
  },
  {
   "cell_type": "code",
   "execution_count": null,
   "id": "8a31b906-d5d6-444e-a510-6f1c1fe6faad",
   "metadata": {},
   "outputs": [],
   "source": [
    "visualize_X_samples_grid(images, labels)"
   ]
  }
 ],
 "metadata": {
  "kernelspec": {
   "display_name": "Python 3 (ipykernel)",
   "language": "python",
   "name": "python3"
  },
  "language_info": {
   "codemirror_mode": {
    "name": "ipython",
    "version": 3
   },
   "file_extension": ".py",
   "mimetype": "text/x-python",
   "name": "python",
   "nbconvert_exporter": "python",
   "pygments_lexer": "ipython3",
   "version": "3.12.7"
  }
 },
 "nbformat": 4,
 "nbformat_minor": 5
}
