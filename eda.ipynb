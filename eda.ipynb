{
 "cells": [
  {
   "cell_type": "code",
   "id": "initial_id",
   "metadata": {
    "ExecuteTime": {
     "end_time": "2024-11-08T15:59:09.471565Z",
     "start_time": "2024-11-08T15:59:09.372785Z"
    }
   },
   "source": [
    "%load_ext autoreload\n",
    "%autoreload 2"
   ],
   "outputs": [],
   "execution_count": 1
  },
  {
   "cell_type": "code",
   "id": "f54661e3",
   "metadata": {
    "ExecuteTime": {
     "end_time": "2024-11-08T15:59:10.837182Z",
     "start_time": "2024-11-08T15:59:09.476587Z"
    }
   },
   "source": [
    "from config import config"
   ],
   "outputs": [],
   "execution_count": 2
  },
  {
   "cell_type": "code",
   "id": "3d99eedfaa4f41d7",
   "metadata": {
    "ExecuteTime": {
     "end_time": "2024-11-08T15:59:19.916577Z",
     "start_time": "2024-11-08T15:59:10.841194Z"
    }
   },
   "source": [
    "from utils import visualize_X_samples_grid\n",
    "\n",
    "import os\n",
    "import numpy as np\n",
    "import pandas as pd"
   ],
   "outputs": [],
   "execution_count": 3
  },
  {
   "cell_type": "markdown",
   "id": "d1cc00690c7ac7a3",
   "metadata": {},
   "source": [
    "# Check Data Module"
   ]
  },
  {
   "cell_type": "code",
   "id": "f4b838f59249e4a3",
   "metadata": {
    "ExecuteTime": {
     "end_time": "2024-11-08T13:46:48.752721Z",
     "start_time": "2024-11-08T13:46:37.120001Z"
    }
   },
   "source": [
    "from dataset import SpriteDataModule\n",
    "dm = SpriteDataModule()\n",
    "dm.setup(stage='fit')\n",
    "dl = dm.train_dataloader()"
   ],
   "outputs": [
    {
     "name": "stdout",
     "output_type": "stream",
     "text": [
      "\u001B[1mINFO    \u001B[0m | \u001B[36msetup\u001B[0m | \u001B[1mLoading Sprites\u001B[0m\n",
      "\u001B[1mINFO    \u001B[0m | \u001B[36msetup\u001B[0m | \u001B[1mLoading Sprite Labels\u001B[0m\n",
      "\u001B[1mINFO    \u001B[0m | \u001B[36msetup\u001B[0m | \u001B[1mTrain Dataset       : 800 samples\u001B[0m\n",
      "\u001B[1mINFO    \u001B[0m | \u001B[36msetup\u001B[0m | \u001B[1mValidation Dataset  : 200 samples\u001B[0m\n"
     ]
    }
   ],
   "execution_count": 4
  },
  {
   "cell_type": "code",
   "id": "9b15a3995690a69e",
   "metadata": {
    "scrolled": true,
    "ExecuteTime": {
     "end_time": "2024-11-08T13:47:07.398467Z",
     "start_time": "2024-11-08T13:46:48.758852Z"
    }
   },
   "source": [
    "batch = next(iter(dl))\n",
    "images, labels = batch\n",
    "images.shape, labels.shape"
   ],
   "outputs": [
    {
     "data": {
      "text/plain": [
       "(torch.Size([4, 3, 16, 16]), torch.Size([4]))"
      ]
     },
     "execution_count": 5,
     "metadata": {},
     "output_type": "execute_result"
    }
   ],
   "execution_count": 5
  },
  {
   "cell_type": "code",
   "id": "7bd55800-2333-469e-ab97-cc108aee1b03",
   "metadata": {
    "ExecuteTime": {
     "end_time": "2024-11-08T13:47:07.771650Z",
     "start_time": "2024-11-08T13:47:07.401485Z"
    }
   },
   "source": [
    "print(images.min(), images.max())\n",
    "print(labels.min(), labels.max())\n",
    "\n",
    "images_0_255 = images * 255.\n",
    "print(images_0_255.min(), images_0_255.max())"
   ],
   "outputs": [
    {
     "name": "stdout",
     "output_type": "stream",
     "text": [
      "tensor(0.) tensor(1.)\n",
      "tensor(1, dtype=torch.int32) tensor(3, dtype=torch.int32)\n",
      "tensor(0.) tensor(255.)\n"
     ]
    }
   ],
   "execution_count": 6
  },
  {
   "cell_type": "code",
   "id": "7ebaf361-fb16-407f-b603-e61164382974",
   "metadata": {
    "ExecuteTime": {
     "end_time": "2024-11-08T13:47:08.588800Z",
     "start_time": "2024-11-08T13:47:07.775667Z"
    }
   },
   "source": [
    "visualize_X_samples_grid(images, labels, n_samples=4, n_cols=4)"
   ],
   "outputs": [
    {
     "data": {
      "text/plain": [
       "<Figure size 800x200 with 4 Axes>"
      ],
      "image/png": "[encoded data removed]"
     },
     "metadata": {},
     "output_type": "display_data"
    }
   ],
   "execution_count": 7
  },
  {
   "cell_type": "markdown",
   "id": "9bd89496",
   "metadata": {},
   "source": [
    "# Model"
   ]
  },
  {
   "cell_type": "code",
   "id": "3989cb3b",
   "metadata": {
    "ExecuteTime": {
     "end_time": "2024-11-08T13:47:10.772706Z",
     "start_time": "2024-11-08T13:47:08.591813Z"
    }
   },
   "source": [
    "from light import SpriteLightning\n",
    "light = SpriteLightning()"
   ],
   "outputs": [
    {
     "name": "stdout",
     "output_type": "stream",
     "text": [
      "\u001B[1mINFO    \u001B[0m | \u001B[36m__init__\u001B[0m | \u001B[1mNumber of Trainable Parameters : 17219203\u001B[0m\n"
     ]
    }
   ],
   "execution_count": 8
  },
  {
   "cell_type": "code",
   "id": "a5227210",
   "metadata": {
    "ExecuteTime": {
     "end_time": "2024-11-08T13:47:11.371596Z",
     "start_time": "2024-11-08T13:47:10.776723Z"
    }
   },
   "source": [
    "noise_pred = light.checkout(batch)\n",
    "noise_pred.shape"
   ],
   "outputs": [
    {
     "data": {
      "text/plain": [
       "torch.Size([4, 3, 16, 16])"
      ]
     },
     "execution_count": 9,
     "metadata": {},
     "output_type": "execute_result"
    }
   ],
   "execution_count": 9
  },
  {
   "cell_type": "markdown",
   "id": "28f66674",
   "metadata": {},
   "source": [
    "# Generate"
   ]
  },
  {
   "cell_type": "code",
   "id": "c174ac4e",
   "metadata": {
    "ExecuteTime": {
     "end_time": "2024-11-08T13:48:37.360389Z",
     "start_time": "2024-11-08T13:47:11.375613Z"
    }
   },
   "source": [
    "samples, labels = light.generate()\n",
    "samples.shape, labels.shape"
   ],
   "outputs": [
    {
     "name": "stdout",
     "output_type": "stream",
     "text": [
      "\u001B[1mINFO    \u001B[0m | \u001B[36mgenerate\u001B[0m | \u001B[1mGenerating Sample Images\u001B[0m\n",
      "\u001B[34m\u001B[1mDEBUG   \u001B[0m | \u001B[36mgenerate\u001B[0m | \u001B[34m\u001B[1mTimestep 0\u001B[0m\n",
      "\u001B[34m\u001B[1mDEBUG   \u001B[0m | \u001B[36mgenerate\u001B[0m | \u001B[34m\u001B[1mTimestep 50\u001B[0m\n",
      "\u001B[34m\u001B[1mDEBUG   \u001B[0m | \u001B[36mgenerate\u001B[0m | \u001B[34m\u001B[1mTimestep 100\u001B[0m\n",
      "\u001B[34m\u001B[1mDEBUG   \u001B[0m | \u001B[36mgenerate\u001B[0m | \u001B[34m\u001B[1mTimestep 150\u001B[0m\n",
      "\u001B[34m\u001B[1mDEBUG   \u001B[0m | \u001B[36mgenerate\u001B[0m | \u001B[34m\u001B[1mTimestep 200\u001B[0m\n",
      "\u001B[34m\u001B[1mDEBUG   \u001B[0m | \u001B[36mgenerate\u001B[0m | \u001B[34m\u001B[1mTimestep 250\u001B[0m\n",
      "\u001B[34m\u001B[1mDEBUG   \u001B[0m | \u001B[36mgenerate\u001B[0m | \u001B[34m\u001B[1mTimestep 300\u001B[0m\n",
      "\u001B[34m\u001B[1mDEBUG   \u001B[0m | \u001B[36mgenerate\u001B[0m | \u001B[34m\u001B[1mTimestep 350\u001B[0m\n",
      "\u001B[34m\u001B[1mDEBUG   \u001B[0m | \u001B[36mgenerate\u001B[0m | \u001B[34m\u001B[1mTimestep 400\u001B[0m\n",
      "\u001B[34m\u001B[1mDEBUG   \u001B[0m | \u001B[36mgenerate\u001B[0m | \u001B[34m\u001B[1mTimestep 450\u001B[0m\n"
     ]
    },
    {
     "data": {
      "text/plain": [
       "(torch.Size([4, 3, 16, 16]), torch.Size([4]))"
      ]
     },
     "execution_count": 10,
     "metadata": {},
     "output_type": "execute_result"
    }
   ],
   "execution_count": 10
  },
  {
   "metadata": {
    "ExecuteTime": {
     "end_time": "2024-11-08T13:48:39.534432Z",
     "start_time": "2024-11-08T13:48:37.441325Z"
    }
   },
   "cell_type": "code",
   "source": "visualize_X_samples_grid(samples, labels, n_samples=config.train.batch_size, n_cols=4)",
   "id": "28fae4099eeed0b0",
   "outputs": [
    {
     "data": {
      "text/plain": [
       "<Figure size 800x200 with 4 Axes>"
      ],
      "image/png": "[encoded data removed]"
     },
     "metadata": {},
     "output_type": "display_data"
    }
   ],
   "execution_count": 11
  },
  {
   "cell_type": "markdown",
   "id": "b0c2ac99-068a-4f17-8a7c-46b4b9159ad8",
   "metadata": {},
   "source": [
    "# Test Images"
   ]
  },
  {
   "cell_type": "code",
   "id": "e8223847-daf8-4be2-9c55-b9403dd58aa1",
   "metadata": {
    "ExecuteTime": {
     "end_time": "2024-11-08T18:17:00.367941Z",
     "start_time": "2024-11-08T18:16:58.964546Z"
    }
   },
   "source": [
    "images = np.load('./output/test_images/samples.npy')\n",
    "labels = np.load('./output/test_images/labels.npy')\n",
    "print(images.shape, labels.shape)\n",
    "\n",
    "visualize_X_samples_grid(images, labels, n_samples=4, n_cols=4)"
   ],
   "outputs": [
    {
     "name": "stdout",
     "output_type": "stream",
     "text": [
      "(4, 3, 16, 16) (4,)\n"
     ]
    },
    {
     "data": {
      "text/plain": [
       "<Figure size 800x200 with 4 Axes>"
      ],
      "image/png": "[encoded data removed]"
     },
     "metadata": {},
     "output_type": "display_data"
    }
   ],
   "execution_count": 22
  },
  {
   "metadata": {},
   "cell_type": "code",
   "outputs": [],
   "execution_count": null,
   "source": "",
   "id": "aadb7d230962e5ff"
  }
 ],
 "metadata": {
  "kernelspec": {
   "display_name": "Python 3 (ipykernel)",
   "language": "python",
   "name": "python3"
  },
  "language_info": {
   "codemirror_mode": {
    "name": "ipython",
    "version": 3
   },
   "file_extension": ".py",
   "mimetype": "text/x-python",
   "name": "python",
   "nbconvert_exporter": "python",
   "pygments_lexer": "ipython3",
   "version": "3.12.5"
  }
 },
 "nbformat": 4,
 "nbformat_minor": 5
}
