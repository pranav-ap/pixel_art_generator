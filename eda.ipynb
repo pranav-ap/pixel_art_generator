{
 "cells": [
  {
   "cell_type": "code",
   "execution_count": 1,
   "id": "initial_id",
   "metadata": {
    "ExecuteTime": {
     "end_time": "2024-11-05T22:52:24.875693Z",
     "start_time": "2024-11-05T22:52:24.781990Z"
    }
   },
   "outputs": [],
   "source": [
    "%load_ext autoreload\n",
    "%autoreload 2"
   ]
  },
  {
   "cell_type": "code",
   "execution_count": 2,
   "id": "3d99eedfaa4f41d7",
   "metadata": {
    "ExecuteTime": {
     "end_time": "2024-09-15T14:11:38.869342Z",
     "start_time": "2024-09-15T14:11:38.776488Z"
    }
   },
   "outputs": [
    {
     "name": "stdout",
     "output_type": "stream",
     "text": [
      "log_level: TRACE\n",
      "dirs:\n",
      "  project_root: /home/stud/ath/ath_ws/others/pixel_art_generator\n",
      "  data: ${dirs.project_root}/data\n",
      "  output: ${dirs.project_root}/output\n",
      "  output_test_images: ${dirs.output}/test_images\n",
      "  output_val_images: ${dirs.output}/val_images\n",
      "image_size: 16\n",
      "train:\n",
      "  batch_size: 2\n",
      "  fast_dev_run: false\n",
      "  overfit_batches: 1\n",
      "  seed: 42\n",
      "  save_image_epochs: 2\n",
      "  patience: 4\n",
      "  max_epochs: 5\n",
      "  check_val_every_n_epoch: 1\n",
      "  num_sanity_val_steps: 1\n",
      "  log_every_n_steps: 25\n",
      "  accumulate_grad_batches: 2\n",
      "  learning_rate: 0.001\n",
      "  lr_warmup_steps: 500\n",
      "test:\n",
      "  batch_size: 2\n",
      "\n"
     ]
    }
   ],
   "source": [
    "from config import config\n",
    "from utils import visualize_X_samples_grid\n",
    "\n",
    "import os\n",
    "import numpy as np\n",
    "import pandas as pd\n",
    "import torch\n",
    "import torch.nn as nn\n",
    "import torch.nn.functional as F\n",
    "import torchvision\n",
    "import torchvision.transforms as T\n",
    "import torchvision.transforms.functional as TF\n",
    "import lightning as L\n",
    "import lightning.pytorch as pl\n",
    "import matplotlib.pyplot as plt\n",
    "torch.set_float32_matmul_precision('medium')"
   ]
  },
  {
   "cell_type": "markdown",
   "id": "d1cc00690c7ac7a3",
   "metadata": {},
   "source": [
    "# Check Data Module"
   ]
  },
  {
   "cell_type": "code",
   "execution_count": 3,
   "id": "f4b838f59249e4a3",
   "metadata": {
    "ExecuteTime": {
     "end_time": "2024-09-15T14:11:38.955526Z",
     "start_time": "2024-09-15T14:11:38.870346Z"
    }
   },
   "outputs": [
    {
     "name": "stdout",
     "output_type": "stream",
     "text": [
      "\u001b[1mINFO    \u001b[0m | \u001b[36msetup\u001b[0m | \u001b[1mTrain Dataset       : 40 samples\u001b[0m\n",
      "\u001b[1mINFO    \u001b[0m | \u001b[36msetup\u001b[0m | \u001b[1mValidation Dataset  : 10 samples\u001b[0m\n"
     ]
    }
   ],
   "source": [
    "from dataset import SpriteDataModule\n",
    "dm = SpriteDataModule()\n",
    "dm.setup(stage='fit')"
   ]
  },
  {
   "cell_type": "code",
   "execution_count": 4,
   "id": "9b15a3995690a69e",
   "metadata": {
    "ExecuteTime": {
     "end_time": "2024-09-15T14:11:52.504804Z",
     "start_time": "2024-09-15T14:11:39.084275Z"
    },
    "scrolled": true
   },
   "outputs": [],
   "source": [
    "dl = dm.train_dataloader()\n",
    "batch = next(iter(dl))"
   ]
  },
  {
   "cell_type": "code",
   "execution_count": null,
   "id": "e5639e088fb42b9c",
   "metadata": {
    "ExecuteTime": {
     "end_time": "2024-09-15T14:11:52.708818Z",
     "start_time": "2024-09-15T14:11:52.505812Z"
    }
   },
   "outputs": [],
   "source": [
    "images, labels = batch\n",
    "images.shape, labels.shape"
   ]
  },
  {
   "cell_type": "code",
   "execution_count": null,
   "id": "7ebaf361-fb16-407f-b603-e61164382974",
   "metadata": {},
   "outputs": [],
   "source": [
    "visualize_X_samples_grid(images, labels, n_samples=2, n_cols=2)"
   ]
  },
  {
   "cell_type": "code",
   "execution_count": null,
   "id": "e8223847-daf8-4be2-9c55-b9403dd58aa1",
   "metadata": {},
   "outputs": [],
   "source": [
    "# images = np.load('./output/test_images/samples.npy')\n",
    "# labels = np.load('./output/test_images/labels.npy')\n",
    "\n",
    "# images.shape, labels.shape"
   ]
  },
  {
   "cell_type": "code",
   "execution_count": null,
   "id": "8a31b906-d5d6-444e-a510-6f1c1fe6faad",
   "metadata": {},
   "outputs": [],
   "source": [
    "# visualize_X_samples_grid(images, labels, n_samples=2, n_cols=2)"
   ]
  },
  {
   "cell_type": "code",
   "execution_count": null,
   "id": "d82b73e8-9687-4dfc-8068-386e718f6929",
   "metadata": {},
   "outputs": [],
   "source": []
  }
 ],
 "metadata": {
  "kernelspec": {
   "display_name": "Python 3 (ipykernel)",
   "language": "python",
   "name": "python3"
  },
  "language_info": {
   "codemirror_mode": {
    "name": "ipython",
    "version": 3
   },
   "file_extension": ".py",
   "mimetype": "text/x-python",
   "name": "python",
   "nbconvert_exporter": "python",
   "pygments_lexer": "ipython3",
   "version": "3.12.7"
  }
 },
 "nbformat": 4,
 "nbformat_minor": 5
}
