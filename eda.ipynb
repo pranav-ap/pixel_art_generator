{
 "cells": [
  {
   "cell_type": "code",
   "execution_count": null,
   "id": "initial_id",
   "metadata": {
    "ExecuteTime": {
     "end_time": "2024-11-05T22:52:24.875693Z",
     "start_time": "2024-11-05T22:52:24.781990Z"
    }
   },
   "outputs": [],
   "source": [
    "%load_ext autoreload\n",
    "%autoreload 2"
   ]
  },
  {
   "cell_type": "code",
   "execution_count": null,
   "id": "3d99eedfaa4f41d7",
   "metadata": {
    "ExecuteTime": {
     "end_time": "2024-09-15T14:11:38.869342Z",
     "start_time": "2024-09-15T14:11:38.776488Z"
    }
   },
   "outputs": [],
   "source": [
    "from config import config\n",
    "from utils import visualize_X_samples_grid\n",
    "\n",
    "import os\n",
    "import numpy as np\n",
    "import pandas as pd\n",
    "import torch\n",
    "import torch.nn as nn\n",
    "import torch.nn.functional as F\n",
    "import torchvision\n",
    "import torchvision.transforms as T\n",
    "import torchvision.transforms.functional as TF\n",
    "import lightning as L\n",
    "import lightning.pytorch as pl\n",
    "import matplotlib.pyplot as plt\n",
    "torch.set_float32_matmul_precision('medium')"
   ]
  },
  {
   "cell_type": "markdown",
   "id": "d1cc00690c7ac7a3",
   "metadata": {},
   "source": [
    "# Check Data Module"
   ]
  },
  {
   "cell_type": "code",
   "execution_count": null,
   "id": "f4b838f59249e4a3",
   "metadata": {
    "ExecuteTime": {
     "end_time": "2024-09-15T14:11:38.955526Z",
     "start_time": "2024-09-15T14:11:38.870346Z"
    }
   },
   "outputs": [],
   "source": [
    "from dataset import SpriteDataModule\n",
    "dm = SpriteDataModule()\n",
    "dm.setup(stage='fit')"
   ]
  },
  {
   "cell_type": "code",
   "execution_count": null,
   "id": "9b15a3995690a69e",
   "metadata": {
    "ExecuteTime": {
     "end_time": "2024-09-15T14:11:52.504804Z",
     "start_time": "2024-09-15T14:11:39.084275Z"
    },
    "scrolled": true
   },
   "outputs": [],
   "source": [
    "dl = dm.train_dataloader()\n",
    "batch = next(iter(dl))"
   ]
  },
  {
   "cell_type": "code",
   "execution_count": null,
   "id": "e5639e088fb42b9c",
   "metadata": {
    "ExecuteTime": {
     "end_time": "2024-09-15T14:11:52.708818Z",
     "start_time": "2024-09-15T14:11:52.505812Z"
    }
   },
   "outputs": [],
   "source": [
    "images, labels = batch\n",
    "images.shape, labels.shape"
   ]
  },
  {
   "cell_type": "code",
   "execution_count": null,
   "id": "7bd55800-2333-469e-ab97-cc108aee1b03",
   "metadata": {},
   "outputs": [],
   "source": [
    "print(images.min(), images.max())\n",
    "print(unnormalized_images.min(), unnormalized_images.max())\n",
    "print(labels.min(), labels.max())"
   ]
  },
  {
   "cell_type": "code",
   "execution_count": null,
   "id": "7ebaf361-fb16-407f-b603-e61164382974",
   "metadata": {},
   "outputs": [],
   "source": [
    "visualize_X_samples_grid(unnormalized_output, labels, n_samples=2, n_cols=2)"
   ]
  },
  {
   "cell_type": "markdown",
   "id": "b0c2ac99-068a-4f17-8a7c-46b4b9159ad8",
   "metadata": {},
   "source": [
    "# Test Images"
   ]
  },
  {
   "cell_type": "code",
   "execution_count": null,
   "id": "e8223847-daf8-4be2-9c55-b9403dd58aa1",
   "metadata": {},
   "outputs": [],
   "source": [
    "# images = np.load('./output/test_images/samples.npy')\n",
    "# labels = np.load('./output/test_images/labels.npy')\n",
    "\n",
    "# images.shape, labels.shape"
   ]
  },
  {
   "cell_type": "code",
   "execution_count": null,
   "id": "8a31b906-d5d6-444e-a510-6f1c1fe6faad",
   "metadata": {},
   "outputs": [],
   "source": [
    "# visualize_X_samples_grid(images, labels, n_samples=2, n_cols=2)"
   ]
  },
  {
   "cell_type": "code",
   "execution_count": null,
   "id": "d82b73e8-9687-4dfc-8068-386e718f6929",
   "metadata": {},
   "outputs": [],
   "source": []
  }
 ],
 "metadata": {
  "kernelspec": {
   "display_name": "kp_matcher",
   "language": "python",
   "name": "python3"
  },
  "language_info": {
   "codemirror_mode": {
    "name": "ipython",
    "version": 3
   },
   "file_extension": ".py",
   "mimetype": "text/x-python",
   "name": "python",
   "nbconvert_exporter": "python",
   "pygments_lexer": "ipython3",
   "version": "3.12.7"
  }
 },
 "nbformat": 4,
 "nbformat_minor": 5
}
