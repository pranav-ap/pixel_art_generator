{
 "cells": [
  {
   "cell_type": "code",
   "id": "initial_id",
   "metadata": {
    "ExecuteTime": {
     "end_time": "2024-11-21T08:20:17.283511Z",
     "start_time": "2024-11-21T08:20:17.253703Z"
    }
   },
   "source": [
    "%load_ext autoreload\n",
    "%autoreload 2"
   ],
   "outputs": [],
   "execution_count": 1
  },
  {
   "metadata": {
    "ExecuteTime": {
     "end_time": "2024-11-21T08:20:17.996819Z",
     "start_time": "2024-11-21T08:20:17.374540Z"
    }
   },
   "cell_type": "code",
   "source": "from config import config",
   "id": "f54661e3",
   "outputs": [],
   "execution_count": 2
  },
  {
   "metadata": {
    "ExecuteTime": {
     "end_time": "2024-11-21T08:20:20.255821Z",
     "start_time": "2024-11-21T08:20:17.997828Z"
    }
   },
   "cell_type": "code",
   "source": [
    "from utils import visualize_X_samples_grid\n",
    "\n",
    "import os\n",
    "import numpy as np\n",
    "\n",
    "os.chdir(config.dirs.project_root)"
   ],
   "id": "3d99eedfaa4f41d7",
   "outputs": [],
   "execution_count": 3
  },
  {
   "cell_type": "markdown",
   "id": "d1cc00690c7ac7a3",
   "metadata": {},
   "source": [
    "# Check Data Module"
   ]
  },
  {
   "cell_type": "code",
   "id": "f4b838f59249e4a3",
   "metadata": {
    "ExecuteTime": {
     "end_time": "2024-11-21T08:20:28.422869Z",
     "start_time": "2024-11-21T08:20:21.015587Z"
    }
   },
   "source": [
    "from src import SpriteDataModule\n",
    "dm = SpriteDataModule()\n",
    "dm.setup(stage='fit')\n",
    "\n",
    "dl = dm.train_dataloader()"
   ],
   "outputs": [
    {
     "name": "stdout",
     "output_type": "stream",
     "text": [
      "\u001B[1mINFO    \u001B[0m | \u001B[36msetup\u001B[0m | \u001B[1mLoading Sprites\u001B[0m\n",
      "\u001B[1mINFO    \u001B[0m | \u001B[36msetup\u001B[0m | \u001B[1mLoading Sprite Labels\u001B[0m\n",
      "\u001B[1mINFO    \u001B[0m | \u001B[36msetup\u001B[0m | \u001B[1mUnique labels in training set: [0 1 2 3 4]\u001B[0m\n",
      "\u001B[1mINFO    \u001B[0m | \u001B[36msetup\u001B[0m | \u001B[1mCounts of each class in training set: {0: 30, 1: 146, 2: 25, 3: 161, 4: 38}\u001B[0m\n",
      "\u001B[1mINFO    \u001B[0m | \u001B[36msetup\u001B[0m | \u001B[1mUnique labels in validation set: [0 1 2 3 4]\u001B[0m\n",
      "\u001B[1mINFO    \u001B[0m | \u001B[36msetup\u001B[0m | \u001B[1mCounts of each class in validation set: {0: 8, 1: 37, 2: 6, 3: 40, 4: 9}\u001B[0m\n",
      "\u001B[1mINFO    \u001B[0m | \u001B[36msetup\u001B[0m | \u001B[1mTrain Dataset       : 400 samples\u001B[0m\n",
      "\u001B[1mINFO    \u001B[0m | \u001B[36msetup\u001B[0m | \u001B[1mValidation Dataset  : 100 samples\u001B[0m\n"
     ]
    }
   ],
   "execution_count": 4
  },
  {
   "cell_type": "code",
   "id": "9b15a3995690a69e",
   "metadata": {
    "scrolled": true,
    "ExecuteTime": {
     "end_time": "2024-11-21T08:23:20.228866Z",
     "start_time": "2024-11-21T08:22:55.234810Z"
    }
   },
   "source": [
    "batch = next(iter(dl))\n",
    "images, labels = batch\n",
    "images.shape, labels.shape"
   ],
   "outputs": [
    {
     "data": {
      "text/plain": [
       "(torch.Size([4, 3, 16, 16]), torch.Size([4]))"
      ]
     },
     "execution_count": 5,
     "metadata": {},
     "output_type": "execute_result"
    }
   ],
   "execution_count": 5
  },
  {
   "cell_type": "code",
   "id": "7bd55800-2333-469e-ab97-cc108aee1b03",
   "metadata": {
    "ExecuteTime": {
     "end_time": "2024-11-21T08:23:20.461789Z",
     "start_time": "2024-11-21T08:23:20.234880Z"
    }
   },
   "source": "print(images.min(), images.max())",
   "outputs": [
    {
     "name": "stdout",
     "output_type": "stream",
     "text": [
      "tensor(-1.) tensor(1.)\n"
     ]
    }
   ],
   "execution_count": 6
  },
  {
   "cell_type": "code",
   "id": "7ebaf361-fb16-407f-b603-e61164382974",
   "metadata": {
    "ExecuteTime": {
     "end_time": "2024-11-21T08:23:20.935171Z",
     "start_time": "2024-11-21T08:23:20.462797Z"
    }
   },
   "source": "visualize_X_samples_grid(images, labels, n_samples=4, n_cols=4)",
   "outputs": [
    {
     "data": {
      "text/plain": [
       "<Figure size 800x200 with 4 Axes>"
      ],
      "image/png": "[encoded data removed]"
     },
     "metadata": {},
     "output_type": "display_data"
    }
   ],
   "execution_count": 7
  },
  {
   "cell_type": "markdown",
   "id": "9bd89496",
   "metadata": {},
   "source": [
    "# Model"
   ]
  },
  {
   "cell_type": "code",
   "id": "3989cb3b",
   "metadata": {
    "ExecuteTime": {
     "end_time": "2024-11-21T08:23:32.689456Z",
     "start_time": "2024-11-21T08:23:32.412557Z"
    }
   },
   "source": [
    "from src import SpriteLightning\n",
    "light = SpriteLightning()"
   ],
   "outputs": [
    {
     "name": "stdout",
     "output_type": "stream",
     "text": [
      "\u001B[1mINFO    \u001B[0m | \u001B[36m__init__\u001B[0m | \u001B[1mNumber of Trainable Parameters : 15730691\u001B[0m\n"
     ]
    }
   ],
   "execution_count": 8
  },
  {
   "cell_type": "code",
   "id": "a5227210",
   "metadata": {
    "ExecuteTime": {
     "end_time": "2024-11-21T08:26:27.772441Z",
     "start_time": "2024-11-21T08:26:27.562433Z"
    }
   },
   "source": [
    "noise_pred = light.forward_shapes(batch)\n",
    "noise_pred.shape"
   ],
   "outputs": [
    {
     "name": "stdout",
     "output_type": "stream",
     "text": [
      "\u001B[34m\u001B[1mDEBUG   \u001B[0m | \u001B[36mforward_shapes\u001B[0m | \u001B[34m\u001B[1mnoisy_images.shape : torch.Size([4, 3, 16, 16])\u001B[0m\n",
      "\u001B[34m\u001B[1mDEBUG   \u001B[0m | \u001B[36mforward_shapes\u001B[0m | \u001B[34m\u001B[1mlabels.shape : torch.Size([4])\u001B[0m\n",
      "\u001B[34m\u001B[1mDEBUG   \u001B[0m | \u001B[36mforward_shapes\u001B[0m | \u001B[34m\u001B[1mclass_cond.shape : torch.Size([4, 10])\u001B[0m\n",
      "\u001B[34m\u001B[1mDEBUG   \u001B[0m | \u001B[36mforward_shapes\u001B[0m | \u001B[34m\u001B[1mclass_cond.shape : torch.Size([4, 10, 16, 16])\u001B[0m\n",
      "\u001B[34m\u001B[1mDEBUG   \u001B[0m | \u001B[36mforward_shapes\u001B[0m | \u001B[34m\u001B[1mtotal_input.shape : torch.Size([4, 13, 16, 16])\u001B[0m\n",
      "\u001B[34m\u001B[1mDEBUG   \u001B[0m | \u001B[36mforward_shapes\u001B[0m | \u001B[34m\u001B[1mout.shape : torch.Size([4, 3, 16, 16])\u001B[0m\n"
     ]
    },
    {
     "data": {
      "text/plain": [
       "torch.Size([4, 3, 16, 16])"
      ]
     },
     "execution_count": 17,
     "metadata": {},
     "output_type": "execute_result"
    }
   ],
   "execution_count": 17
  },
  {
   "cell_type": "markdown",
   "id": "28f66674",
   "metadata": {},
   "source": [
    "# Generate"
   ]
  },
  {
   "cell_type": "code",
   "id": "c174ac4e",
   "metadata": {
    "ExecuteTime": {
     "end_time": "2024-11-20T23:39:31.459054Z",
     "start_time": "2024-11-20T23:39:25.729275Z"
    }
   },
   "source": [
    "samples, labels = light.generate()\n",
    "samples.shape, labels.shape"
   ],
   "outputs": [
    {
     "name": "stderr",
     "output_type": "stream",
     "text": [
      "Generating images from noise: 25it [00:04,  5.02it/s]\n"
     ]
    },
    {
     "data": {
      "text/plain": [
       "(torch.Size([10, 3, 32, 32]), torch.Size([10]))"
      ]
     },
     "execution_count": 10,
     "metadata": {},
     "output_type": "execute_result"
    }
   ],
   "execution_count": 10
  },
  {
   "metadata": {
    "ExecuteTime": {
     "end_time": "2024-11-20T23:39:31.869607Z",
     "start_time": "2024-11-20T23:39:31.460061Z"
    }
   },
   "cell_type": "code",
   "source": [
    "num_classes = 5\n",
    "num_member_per_class = config.test.batch_size\n",
    "\n",
    "visualize_X_samples_grid(\n",
    "    samples, \n",
    "    labels, \n",
    "    n_samples=num_member_per_class * num_classes, \n",
    "    n_cols=num_member_per_class\n",
    ")"
   ],
   "id": "28fae4099eeed0b0",
   "outputs": [
    {
     "data": {
      "text/plain": [
       "<Figure size 400x1000 with 10 Axes>"
      ],
      "image/png": "[encoded data removed]"
     },
     "metadata": {},
     "output_type": "display_data"
    }
   ],
   "execution_count": 11
  },
  {
   "cell_type": "markdown",
   "id": "b0c2ac99-068a-4f17-8a7c-46b4b9159ad8",
   "metadata": {},
   "source": [
    "# Test Images"
   ]
  },
  {
   "cell_type": "code",
   "id": "e8223847-daf8-4be2-9c55-b9403dd58aa1",
   "metadata": {
    "ExecuteTime": {
     "end_time": "2024-11-20T23:39:32.679237Z",
     "start_time": "2024-11-20T23:39:31.870144Z"
    }
   },
   "source": [
    "idx = 11\n",
    "images = np.load(f'./output/test_images/samples_{idx}.npy')\n",
    "# images = np.load(f'./output/test_images/pred_original_sample{idx}.npy')\n",
    "labels = np.load(f'./output/test_images/labels_{idx}.npy')\n",
    "print(images.shape, labels.shape)\n",
    "\n",
    "num_classes = 5\n",
    "num_member_per_class = config.test.batch_size\n",
    "\n",
    "visualize_X_samples_grid(\n",
    "    images, \n",
    "    labels, \n",
    "    n_samples=num_member_per_class * num_classes, \n",
    "    n_cols=num_member_per_class\n",
    ")"
   ],
   "outputs": [
    {
     "ename": "FileNotFoundError",
     "evalue": "[Errno 2] No such file or directory: './output/test_images/samples_11.npy'",
     "output_type": "error",
     "traceback": [
      "\u001B[1;31m---------------------------------------------------------------------------\u001B[0m",
      "\u001B[1;31mFileNotFoundError\u001B[0m                         Traceback (most recent call last)",
      "Cell \u001B[1;32mIn[12], line 2\u001B[0m\n\u001B[0;32m      1\u001B[0m idx \u001B[38;5;241m=\u001B[39m \u001B[38;5;241m11\u001B[39m\n\u001B[1;32m----> 2\u001B[0m images \u001B[38;5;241m=\u001B[39m np\u001B[38;5;241m.\u001B[39mload(\u001B[38;5;124mf\u001B[39m\u001B[38;5;124m'\u001B[39m\u001B[38;5;124m./output/test_images/samples_\u001B[39m\u001B[38;5;132;01m{\u001B[39;00midx\u001B[38;5;132;01m}\u001B[39;00m\u001B[38;5;124m.npy\u001B[39m\u001B[38;5;124m'\u001B[39m)\n\u001B[0;32m      3\u001B[0m \u001B[38;5;66;03m# images = np.load(f'./output/test_images/pred_original_sample{idx}.npy')\u001B[39;00m\n\u001B[0;32m      4\u001B[0m labels \u001B[38;5;241m=\u001B[39m np\u001B[38;5;241m.\u001B[39mload(\u001B[38;5;124mf\u001B[39m\u001B[38;5;124m'\u001B[39m\u001B[38;5;124m./output/test_images/labels_\u001B[39m\u001B[38;5;132;01m{\u001B[39;00midx\u001B[38;5;132;01m}\u001B[39;00m\u001B[38;5;124m.npy\u001B[39m\u001B[38;5;124m'\u001B[39m)\n",
      "File \u001B[1;32m~\\miniconda3\\envs\\common_env\\Lib\\site-packages\\numpy\\lib\\npyio.py:427\u001B[0m, in \u001B[0;36mload\u001B[1;34m(file, mmap_mode, allow_pickle, fix_imports, encoding, max_header_size)\u001B[0m\n\u001B[0;32m    425\u001B[0m     own_fid \u001B[38;5;241m=\u001B[39m \u001B[38;5;28;01mFalse\u001B[39;00m\n\u001B[0;32m    426\u001B[0m \u001B[38;5;28;01melse\u001B[39;00m:\n\u001B[1;32m--> 427\u001B[0m     fid \u001B[38;5;241m=\u001B[39m stack\u001B[38;5;241m.\u001B[39menter_context(\u001B[38;5;28mopen\u001B[39m(os_fspath(file), \u001B[38;5;124m\"\u001B[39m\u001B[38;5;124mrb\u001B[39m\u001B[38;5;124m\"\u001B[39m))\n\u001B[0;32m    428\u001B[0m     own_fid \u001B[38;5;241m=\u001B[39m \u001B[38;5;28;01mTrue\u001B[39;00m\n\u001B[0;32m    430\u001B[0m \u001B[38;5;66;03m# Code to distinguish from NumPy binary files and pickles.\u001B[39;00m\n",
      "\u001B[1;31mFileNotFoundError\u001B[0m: [Errno 2] No such file or directory: './output/test_images/samples_11.npy'"
     ]
    }
   ],
   "execution_count": 12
  },
  {
   "metadata": {},
   "cell_type": "code",
   "source": "",
   "id": "1141a217fc981183",
   "outputs": [],
   "execution_count": null
  }
 ],
 "metadata": {
  "kernelspec": {
   "display_name": "Python 3 (ipykernel)",
   "language": "python",
   "name": "python3"
  },
  "language_info": {
   "codemirror_mode": {
    "name": "ipython",
    "version": 3
   },
   "file_extension": ".py",
   "mimetype": "text/x-python",
   "name": "python",
   "nbconvert_exporter": "python",
   "pygments_lexer": "ipython3",
   "version": "3.12.5"
  }
 },
 "nbformat": 4,
 "nbformat_minor": 5
}
